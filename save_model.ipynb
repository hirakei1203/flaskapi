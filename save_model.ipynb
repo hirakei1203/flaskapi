{
 "cells": [
  {
   "cell_type": "code",
   "execution_count": null,
   "metadata": {},
   "outputs": [],
   "source": [
    "# モデルの保存\n",
    "import cv2\n",
    "import os\n",
    "import numpy as np\n",
    "from PIL import Image\n",
    "import re\n",
    "import os.path\n",
    "\n",
    "# フォルダ内の画像を習得\n",
    "def get_images_and_labels():\n",
    "    \n",
    "    print('モデル保存中...')\n",
    "    \n",
    "    # トレーニング画像\n",
    "    train_path = './train_images'\n",
    "\n",
    "    # Haar-like特徴分類器\n",
    "    cascadePath = './haarcascade_frontalface_alt.xml'\n",
    "    faceCascade = cv2.CascadeClassifier(cascadePath)\n",
    "    recognizer= cv2.face.LBPHFaceRecognizer_create()\n",
    "    # recognizer = cv2.createFisherFaceRecognizer()\n",
    "\n",
    "    # 画像を格納する配列\n",
    "    images = []\n",
    "    # ラベルを格納する配列\n",
    "    labels = []\n",
    "    for f in os.listdir(train_path):\n",
    "        # 画像のパス\n",
    "        image_path = os.path.join(train_path, f)\n",
    "        # 白黒で読み込み\n",
    "        image_pil = Image.open(image_path).convert('L')\n",
    "        # Numpyの配列に格納\n",
    "        image = np.array(image_pil, 'uint8')\n",
    "        # Haar-like特徴分類器で顔を検知\n",
    "        faces = faceCascade.detectMultiScale(image)\n",
    "        # 検出した画像の処理\n",
    "        for(x, y, w, h) in faces:\n",
    "            # 200×200にリサイズ\n",
    "            roi = cv2.resize(image[y: y + h, x: x + w],\n",
    "                             (200, 200), interpolation=cv2.INTER_LINEAR)\n",
    "            # 画像を配列に格納\n",
    "            images.append(roi)\n",
    "            int_number = re.findall(\"\\d+\", f)\n",
    "            for number in int_number:\n",
    "                labels.append(int(number))\n",
    "    # トレーニング実施\n",
    "    recognizer.train(images, np.array(labels))\n",
    "\n",
    "    # モデルの保存\n",
    "    # compression=zipでzipで保存するかどうか\n",
    "    recognizer.write('sample_model.yml')\n",
    "\n",
    "    \n",
    "    print('モデルの保存が完了しました。')\n",
    "\n",
    "get_images_and_labels()"
   ]
  },
  {
   "cell_type": "code",
   "execution_count": null,
   "metadata": {},
   "outputs": [],
   "source": []
  }
 ],
 "metadata": {
  "kernelspec": {
   "display_name": "Python 3",
   "language": "python",
   "name": "python3"
  },
  "language_info": {
   "codemirror_mode": {
    "name": "ipython",
    "version": 3
   },
   "file_extension": ".py",
   "mimetype": "text/x-python",
   "name": "python",
   "nbconvert_exporter": "python",
   "pygments_lexer": "ipython3",
   "version": "3.6.4"
  },
  "toc": {
   "base_numbering": 1,
   "nav_menu": {},
   "number_sections": true,
   "sideBar": true,
   "skip_h1_title": false,
   "title_cell": "Table of Contents",
   "title_sidebar": "Contents",
   "toc_cell": false,
   "toc_position": {},
   "toc_section_display": true,
   "toc_window_display": false
  }
 },
 "nbformat": 4,
 "nbformat_minor": 2
}
